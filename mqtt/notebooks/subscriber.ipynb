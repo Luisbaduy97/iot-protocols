{
 "cells": [
  {
   "cell_type": "code",
   "execution_count": 2,
   "metadata": {},
   "outputs": [
    {
     "name": "stdout",
     "output_type": "stream",
     "text": [
      "Connected\n"
     ]
    }
   ],
   "source": [
    "from paho.mqtt import client as mqttClient\n",
    "import time\n",
    "\n",
    "def on_connect(client, userdate, flags, rc):\n",
    "    if rc == 0:\n",
    "        print('Connected')\n",
    "        global Connected\n",
    "        Connected = True\n",
    "    else:\n",
    "        print('Not connected')\n",
    "    return\n",
    "\n",
    "def on_message(client, userdata, message):\n",
    "    print(message.topic, message.payload)\n",
    "    return\n",
    "\n",
    "Connected = False\n",
    "broker_address = 'broker.hivemq.com'\n",
    "port = 1883\n",
    "\n",
    "tag = \"/MNA/IOT/LN34/#\"\n",
    "\n",
    "client1 = mqttClient.Client('cliente')\n",
    "client1.on_connect = on_connect\n",
    "client1.on_message = on_message\n",
    "client1.connect(broker_address, port)\n",
    "client1.loop_start()\n",
    "\n",
    "while Connected != True:\n",
    "    time.sleep(0.1)\n",
    "    client1.subscribe(tag)\n",
    "    try:\n",
    "        while True:\n",
    "            time.sleep(1)\n",
    "    except KeyboardInterrupt:\n",
    "        client1.disconnect()\n",
    "        client1.loop_stop()"
   ]
  }
 ],
 "metadata": {
  "kernelspec": {
   "display_name": "Python 3.8.10 ('venv': venv)",
   "language": "python",
   "name": "python3"
  },
  "language_info": {
   "codemirror_mode": {
    "name": "ipython",
    "version": 3
   },
   "file_extension": ".py",
   "mimetype": "text/x-python",
   "name": "python",
   "nbconvert_exporter": "python",
   "pygments_lexer": "ipython3",
   "version": "3.8.10"
  },
  "orig_nbformat": 4,
  "vscode": {
   "interpreter": {
    "hash": "339385c645f25b98787c6d1e990629b6fd4eb882a4b9b66fb373cf2bdee8db66"
   }
  }
 },
 "nbformat": 4,
 "nbformat_minor": 2
}
